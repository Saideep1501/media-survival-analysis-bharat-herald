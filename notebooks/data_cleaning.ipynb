{
 "cells": [
  {
   "cell_type": "code",
   "execution_count": 2,
   "id": "62cabc80-32a7-4124-9e98-2d157df83ded",
   "metadata": {},
   "outputs": [],
   "source": [
    "import pandas as pd\n",
    "import numpy as np\n",
    "import os\n",
    "import re\n",
    "import matplotlib.pyplot as plt\n",
    "import seaborn as sns\n",
    "\n",
    "# To show plots inline in the notebook\n",
    "%matplotlib inline"
   ]
  },
  {
   "cell_type": "markdown",
   "id": "fc6e8ad9-7282-4cb3-b15c-17b381cf2666",
   "metadata": {},
   "source": [
    "### DATA CLEANING OF fact_ad_revenue.csv"
   ]
  },
  {
   "cell_type": "code",
   "execution_count": 26,
   "id": "6c4f5d21-02b1-4094-99c4-cd3ef08c1f34",
   "metadata": {},
   "outputs": [
    {
     "data": {
      "text/html": [
       "<div>\n",
       "<style scoped>\n",
       "    .dataframe tbody tr th:only-of-type {\n",
       "        vertical-align: middle;\n",
       "    }\n",
       "\n",
       "    .dataframe tbody tr th {\n",
       "        vertical-align: top;\n",
       "    }\n",
       "\n",
       "    .dataframe thead th {\n",
       "        text-align: right;\n",
       "    }\n",
       "</style>\n",
       "<table border=\"1\" class=\"dataframe\">\n",
       "  <thead>\n",
       "    <tr style=\"text-align: right;\">\n",
       "      <th></th>\n",
       "      <th>edition_id</th>\n",
       "      <th>ad_category</th>\n",
       "      <th>quarter</th>\n",
       "      <th>ad_revenue</th>\n",
       "      <th>currency</th>\n",
       "      <th>comments</th>\n",
       "    </tr>\n",
       "  </thead>\n",
       "  <tbody>\n",
       "    <tr>\n",
       "      <th>0</th>\n",
       "      <td>ED1005</td>\n",
       "      <td>A001</td>\n",
       "      <td>2023-Q2</td>\n",
       "      <td>22613.69</td>\n",
       "      <td>EUR</td>\n",
       "      <td>NaN</td>\n",
       "    </tr>\n",
       "    <tr>\n",
       "      <th>1</th>\n",
       "      <td>ED1005</td>\n",
       "      <td>A002</td>\n",
       "      <td>Q1-2019</td>\n",
       "      <td>39366.88</td>\n",
       "      <td>USD</td>\n",
       "      <td>NaN</td>\n",
       "    </tr>\n",
       "    <tr>\n",
       "      <th>2</th>\n",
       "      <td>ED1001</td>\n",
       "      <td>A003</td>\n",
       "      <td>Q3-2023</td>\n",
       "      <td>3709860.00</td>\n",
       "      <td>INR</td>\n",
       "      <td>NaN</td>\n",
       "    </tr>\n",
       "    <tr>\n",
       "      <th>3</th>\n",
       "      <td>ED1003</td>\n",
       "      <td>A002</td>\n",
       "      <td>Q3-2023</td>\n",
       "      <td>40969.55</td>\n",
       "      <td>USD</td>\n",
       "      <td>NaN</td>\n",
       "    </tr>\n",
       "    <tr>\n",
       "      <th>4</th>\n",
       "      <td>ED1007</td>\n",
       "      <td>A003</td>\n",
       "      <td>4th Qtr 2020</td>\n",
       "      <td>51779.40</td>\n",
       "      <td>USD</td>\n",
       "      <td>NaN</td>\n",
       "    </tr>\n",
       "  </tbody>\n",
       "</table>\n",
       "</div>"
      ],
      "text/plain": [
       "  edition_id ad_category       quarter  ad_revenue currency comments\n",
       "0     ED1005        A001       2023-Q2    22613.69      EUR      NaN\n",
       "1     ED1005        A002       Q1-2019    39366.88      USD      NaN\n",
       "2     ED1001        A003       Q3-2023  3709860.00      INR      NaN\n",
       "3     ED1003        A002       Q3-2023    40969.55      USD      NaN\n",
       "4     ED1007        A003  4th Qtr 2020    51779.40      USD      NaN"
      ]
     },
     "execution_count": 26,
     "metadata": {},
     "output_type": "execute_result"
    }
   ],
   "source": [
    "file_path = '../Datasets/Raw Datasets/fact_ad_revenue.csv'\n",
    "\n",
    "df = pd.read_csv(file_path)\n",
    "df.head()"
   ]
  },
  {
   "cell_type": "code",
   "execution_count": 27,
   "id": "c456492d-45b0-4412-b478-66bbca0a6c7b",
   "metadata": {},
   "outputs": [
    {
     "data": {
      "text/plain": [
       "edition_id       0\n",
       "ad_category      0\n",
       "quarter          0\n",
       "ad_revenue       0\n",
       "currency         0\n",
       "comments       682\n",
       "dtype: int64"
      ]
     },
     "execution_count": 27,
     "metadata": {},
     "output_type": "execute_result"
    }
   ],
   "source": [
    "df.isnull().sum()"
   ]
  },
  {
   "cell_type": "code",
   "execution_count": 5,
   "id": "823df0bf-8e5f-46eb-bccc-25c9e2b6a5d4",
   "metadata": {},
   "outputs": [
    {
     "name": "stdout",
     "output_type": "stream",
     "text": [
      "<class 'pandas.core.frame.DataFrame'>\n",
      "RangeIndex: 720 entries, 0 to 719\n",
      "Data columns (total 6 columns):\n",
      " #   Column       Non-Null Count  Dtype  \n",
      "---  ------       --------------  -----  \n",
      " 0   edition_id   720 non-null    object \n",
      " 1   ad_category  720 non-null    object \n",
      " 2   quarter      720 non-null    object \n",
      " 3   ad_revenue   720 non-null    float64\n",
      " 4   currency     720 non-null    object \n",
      " 5   comments     38 non-null     object \n",
      "dtypes: float64(1), object(5)\n",
      "memory usage: 33.9+ KB\n"
     ]
    },
    {
     "data": {
      "text/plain": [
       "Index(['edition_id', 'ad_category', 'quarter', 'ad_revenue', 'currency',\n",
       "       'comments'],\n",
       "      dtype='object')"
      ]
     },
     "execution_count": 5,
     "metadata": {},
     "output_type": "execute_result"
    }
   ],
   "source": [
    "df.info()\n",
    "df.columns"
   ]
  },
  {
   "cell_type": "code",
   "execution_count": 28,
   "id": "54461b3d-56c4-4e9d-a02b-ce7f58f1a089",
   "metadata": {},
   "outputs": [],
   "source": [
    "df.columns = df.columns.str.lower().str.strip().str.replace(' ', '_')"
   ]
  },
  {
   "cell_type": "code",
   "execution_count": 7,
   "id": "eac9e6ea-d871-4e94-b36c-cac677758a62",
   "metadata": {},
   "outputs": [
    {
     "data": {
      "text/plain": [
       "array(['2023-Q2', 'Q1-2019', 'Q3-2023', '4th Qtr 2020', '2024-Q2',\n",
       "       '2019-Q2', 'Q3-2021', '4th Qtr 2023', '2020-Q2', '2022-Q2',\n",
       "       '2021-Q2', '4th Qtr 2024', 'Q1-2020', 'Q3-2022', 'Q3-2019',\n",
       "       '4th Qtr 2021', 'Q1-2022', '4th Qtr 2022', 'Q3-2024', 'Q1-2023',\n",
       "       'Q1-2024', 'Q3-2020', 'Q1-2021', '4th Qtr 2019'], dtype=object)"
      ]
     },
     "execution_count": 7,
     "metadata": {},
     "output_type": "execute_result"
    }
   ],
   "source": [
    "df['quarter'].unique()"
   ]
  },
  {
   "cell_type": "code",
   "execution_count": 29,
   "id": "13a43ce3-ca42-4dfd-9b81-456a6991759f",
   "metadata": {},
   "outputs": [],
   "source": [
    "def standardize_quarter(q):\n",
    "    q = str(q).strip()\n",
    "\n",
    "    # Format: YYYY-Qn → Already correct\n",
    "    if re.match(r'\\d{4}-Q[1-4]', q):\n",
    "        return q\n",
    "\n",
    "    # Format: Qn-YYYY → Flip it\n",
    "    match = re.match(r'Q([1-4])-(\\d{4})', q, re.IGNORECASE)\n",
    "    if match:\n",
    "        return f\"{match.group(2)}-Q{match.group(1)}\"\n",
    "\n",
    "    # Format: 4th Qtr 2023, 1st Qtr 2020 etc.\n",
    "    match = re.match(r'([1-4])(st|nd|rd|th)?\\s+Qtr\\s+(\\d{4})', q, re.IGNORECASE)\n",
    "    if match:\n",
    "        return f\"{match.group(3)}-Q{match.group(1)}\"\n",
    "\n",
    "    return np.nan  # if unmatched\n"
   ]
  },
  {
   "cell_type": "code",
   "execution_count": 30,
   "id": "053d06ce-b93d-475b-8cba-d8b61c793757",
   "metadata": {},
   "outputs": [
    {
     "data": {
      "text/html": [
       "<div>\n",
       "<style scoped>\n",
       "    .dataframe tbody tr th:only-of-type {\n",
       "        vertical-align: middle;\n",
       "    }\n",
       "\n",
       "    .dataframe tbody tr th {\n",
       "        vertical-align: top;\n",
       "    }\n",
       "\n",
       "    .dataframe thead th {\n",
       "        text-align: right;\n",
       "    }\n",
       "</style>\n",
       "<table border=\"1\" class=\"dataframe\">\n",
       "  <thead>\n",
       "    <tr style=\"text-align: right;\">\n",
       "      <th></th>\n",
       "      <th>edition_id</th>\n",
       "      <th>ad_category</th>\n",
       "      <th>quarter</th>\n",
       "      <th>ad_revenue</th>\n",
       "      <th>currency</th>\n",
       "      <th>comments</th>\n",
       "    </tr>\n",
       "  </thead>\n",
       "  <tbody>\n",
       "    <tr>\n",
       "      <th>0</th>\n",
       "      <td>ED1005</td>\n",
       "      <td>A001</td>\n",
       "      <td>2023-Q2</td>\n",
       "      <td>22613.69</td>\n",
       "      <td>EUR</td>\n",
       "      <td>NaN</td>\n",
       "    </tr>\n",
       "    <tr>\n",
       "      <th>1</th>\n",
       "      <td>ED1005</td>\n",
       "      <td>A002</td>\n",
       "      <td>2019-Q1</td>\n",
       "      <td>39366.88</td>\n",
       "      <td>USD</td>\n",
       "      <td>NaN</td>\n",
       "    </tr>\n",
       "    <tr>\n",
       "      <th>2</th>\n",
       "      <td>ED1001</td>\n",
       "      <td>A003</td>\n",
       "      <td>2023-Q3</td>\n",
       "      <td>3709860.00</td>\n",
       "      <td>INR</td>\n",
       "      <td>NaN</td>\n",
       "    </tr>\n",
       "    <tr>\n",
       "      <th>3</th>\n",
       "      <td>ED1003</td>\n",
       "      <td>A002</td>\n",
       "      <td>2023-Q3</td>\n",
       "      <td>40969.55</td>\n",
       "      <td>USD</td>\n",
       "      <td>NaN</td>\n",
       "    </tr>\n",
       "    <tr>\n",
       "      <th>4</th>\n",
       "      <td>ED1007</td>\n",
       "      <td>A003</td>\n",
       "      <td>2020-Q4</td>\n",
       "      <td>51779.40</td>\n",
       "      <td>USD</td>\n",
       "      <td>NaN</td>\n",
       "    </tr>\n",
       "  </tbody>\n",
       "</table>\n",
       "</div>"
      ],
      "text/plain": [
       "  edition_id ad_category  quarter  ad_revenue currency comments\n",
       "0     ED1005        A001  2023-Q2    22613.69      EUR      NaN\n",
       "1     ED1005        A002  2019-Q1    39366.88      USD      NaN\n",
       "2     ED1001        A003  2023-Q3  3709860.00      INR      NaN\n",
       "3     ED1003        A002  2023-Q3    40969.55      USD      NaN\n",
       "4     ED1007        A003  2020-Q4    51779.40      USD      NaN"
      ]
     },
     "execution_count": 30,
     "metadata": {},
     "output_type": "execute_result"
    }
   ],
   "source": [
    "df['quarter'] = df['quarter'].apply(standardize_quarter)\n",
    "df.head()"
   ]
  },
  {
   "cell_type": "code",
   "execution_count": 31,
   "id": "40c29d6d-2e02-4ca1-a890-f2756db6be44",
   "metadata": {},
   "outputs": [],
   "source": [
    "def standardize_currency(c):\n",
    "    c = str(c).strip()\n",
    "\n",
    "    if re.match(r'^IN RUPEES$', c, re.IGNORECASE):\n",
    "        return 'INR'  \n",
    "    else:\n",
    "        return c\n"
   ]
  },
  {
   "cell_type": "code",
   "execution_count": 32,
   "id": "a1f04b24-2e08-44aa-b8ce-e8e9c7cc572d",
   "metadata": {},
   "outputs": [],
   "source": [
    "df['currency'] = df['currency'].apply(standardize_currency)"
   ]
  },
  {
   "cell_type": "code",
   "execution_count": 33,
   "id": "64343f78-6170-423c-85d9-3bb45ee0672d",
   "metadata": {},
   "outputs": [
    {
     "data": {
      "text/html": [
       "<div>\n",
       "<style scoped>\n",
       "    .dataframe tbody tr th:only-of-type {\n",
       "        vertical-align: middle;\n",
       "    }\n",
       "\n",
       "    .dataframe tbody tr th {\n",
       "        vertical-align: top;\n",
       "    }\n",
       "\n",
       "    .dataframe thead th {\n",
       "        text-align: right;\n",
       "    }\n",
       "</style>\n",
       "<table border=\"1\" class=\"dataframe\">\n",
       "  <thead>\n",
       "    <tr style=\"text-align: right;\">\n",
       "      <th></th>\n",
       "      <th>edition_id</th>\n",
       "      <th>ad_category</th>\n",
       "      <th>quarter</th>\n",
       "      <th>ad_revenue</th>\n",
       "      <th>currency</th>\n",
       "      <th>comments</th>\n",
       "    </tr>\n",
       "  </thead>\n",
       "  <tbody>\n",
       "    <tr>\n",
       "      <th>0</th>\n",
       "      <td>ED1005</td>\n",
       "      <td>A001</td>\n",
       "      <td>2023-Q2</td>\n",
       "      <td>22613.69</td>\n",
       "      <td>EUR</td>\n",
       "      <td>NaN</td>\n",
       "    </tr>\n",
       "    <tr>\n",
       "      <th>1</th>\n",
       "      <td>ED1005</td>\n",
       "      <td>A002</td>\n",
       "      <td>2019-Q1</td>\n",
       "      <td>39366.88</td>\n",
       "      <td>USD</td>\n",
       "      <td>NaN</td>\n",
       "    </tr>\n",
       "    <tr>\n",
       "      <th>2</th>\n",
       "      <td>ED1001</td>\n",
       "      <td>A003</td>\n",
       "      <td>2023-Q3</td>\n",
       "      <td>3709860.00</td>\n",
       "      <td>INR</td>\n",
       "      <td>NaN</td>\n",
       "    </tr>\n",
       "    <tr>\n",
       "      <th>3</th>\n",
       "      <td>ED1003</td>\n",
       "      <td>A002</td>\n",
       "      <td>2023-Q3</td>\n",
       "      <td>40969.55</td>\n",
       "      <td>USD</td>\n",
       "      <td>NaN</td>\n",
       "    </tr>\n",
       "    <tr>\n",
       "      <th>4</th>\n",
       "      <td>ED1007</td>\n",
       "      <td>A003</td>\n",
       "      <td>2020-Q4</td>\n",
       "      <td>51779.40</td>\n",
       "      <td>USD</td>\n",
       "      <td>NaN</td>\n",
       "    </tr>\n",
       "  </tbody>\n",
       "</table>\n",
       "</div>"
      ],
      "text/plain": [
       "  edition_id ad_category  quarter  ad_revenue currency comments\n",
       "0     ED1005        A001  2023-Q2    22613.69      EUR      NaN\n",
       "1     ED1005        A002  2019-Q1    39366.88      USD      NaN\n",
       "2     ED1001        A003  2023-Q3  3709860.00      INR      NaN\n",
       "3     ED1003        A002  2023-Q3    40969.55      USD      NaN\n",
       "4     ED1007        A003  2020-Q4    51779.40      USD      NaN"
      ]
     },
     "execution_count": 33,
     "metadata": {},
     "output_type": "execute_result"
    }
   ],
   "source": [
    "df.head()"
   ]
  },
  {
   "cell_type": "code",
   "execution_count": 34,
   "id": "b0d0e5aa-abe3-43b2-8b22-7b1ded2d891b",
   "metadata": {},
   "outputs": [
    {
     "data": {
      "text/html": [
       "<div>\n",
       "<style scoped>\n",
       "    .dataframe tbody tr th:only-of-type {\n",
       "        vertical-align: middle;\n",
       "    }\n",
       "\n",
       "    .dataframe tbody tr th {\n",
       "        vertical-align: top;\n",
       "    }\n",
       "\n",
       "    .dataframe thead th {\n",
       "        text-align: right;\n",
       "    }\n",
       "</style>\n",
       "<table border=\"1\" class=\"dataframe\">\n",
       "  <thead>\n",
       "    <tr style=\"text-align: right;\">\n",
       "      <th></th>\n",
       "      <th>quarter</th>\n",
       "      <th>USD_to_INR</th>\n",
       "      <th>EUR_to_INR</th>\n",
       "    </tr>\n",
       "  </thead>\n",
       "  <tbody>\n",
       "    <tr>\n",
       "      <th>0</th>\n",
       "      <td>2019-Q1</td>\n",
       "      <td>69.9</td>\n",
       "      <td>78.4</td>\n",
       "    </tr>\n",
       "    <tr>\n",
       "      <th>1</th>\n",
       "      <td>2019-Q2</td>\n",
       "      <td>70.2</td>\n",
       "      <td>78.9</td>\n",
       "    </tr>\n",
       "    <tr>\n",
       "      <th>2</th>\n",
       "      <td>2019-Q3</td>\n",
       "      <td>71.1</td>\n",
       "      <td>79.5</td>\n",
       "    </tr>\n",
       "    <tr>\n",
       "      <th>3</th>\n",
       "      <td>2019-Q4</td>\n",
       "      <td>71.5</td>\n",
       "      <td>80.2</td>\n",
       "    </tr>\n",
       "    <tr>\n",
       "      <th>4</th>\n",
       "      <td>2020-Q1</td>\n",
       "      <td>71.8</td>\n",
       "      <td>81.0</td>\n",
       "    </tr>\n",
       "  </tbody>\n",
       "</table>\n",
       "</div>"
      ],
      "text/plain": [
       "   quarter  USD_to_INR  EUR_to_INR\n",
       "0  2019-Q1        69.9        78.4\n",
       "1  2019-Q2        70.2        78.9\n",
       "2  2019-Q3        71.1        79.5\n",
       "3  2019-Q4        71.5        80.2\n",
       "4  2020-Q1        71.8        81.0"
      ]
     },
     "execution_count": 34,
     "metadata": {},
     "output_type": "execute_result"
    }
   ],
   "source": [
    "exchange_df = pd.read_csv('../Datasets/Raw Datasets/exchange_rates.csv')\n",
    "exchange_df.head()"
   ]
  },
  {
   "cell_type": "code",
   "execution_count": 35,
   "id": "fe9f5c72-97d4-4074-9125-a34ae4f64f52",
   "metadata": {},
   "outputs": [
    {
     "data": {
      "text/html": [
       "<div>\n",
       "<style scoped>\n",
       "    .dataframe tbody tr th:only-of-type {\n",
       "        vertical-align: middle;\n",
       "    }\n",
       "\n",
       "    .dataframe tbody tr th {\n",
       "        vertical-align: top;\n",
       "    }\n",
       "\n",
       "    .dataframe thead th {\n",
       "        text-align: right;\n",
       "    }\n",
       "</style>\n",
       "<table border=\"1\" class=\"dataframe\">\n",
       "  <thead>\n",
       "    <tr style=\"text-align: right;\">\n",
       "      <th></th>\n",
       "      <th>edition_id</th>\n",
       "      <th>ad_category</th>\n",
       "      <th>quarter</th>\n",
       "      <th>ad_revenue</th>\n",
       "      <th>currency</th>\n",
       "      <th>comments</th>\n",
       "      <th>USD_to_INR</th>\n",
       "      <th>EUR_to_INR</th>\n",
       "    </tr>\n",
       "  </thead>\n",
       "  <tbody>\n",
       "    <tr>\n",
       "      <th>0</th>\n",
       "      <td>ED1005</td>\n",
       "      <td>A001</td>\n",
       "      <td>2023-Q2</td>\n",
       "      <td>22613.69</td>\n",
       "      <td>EUR</td>\n",
       "      <td>NaN</td>\n",
       "      <td>78.5</td>\n",
       "      <td>88.5</td>\n",
       "    </tr>\n",
       "    <tr>\n",
       "      <th>1</th>\n",
       "      <td>ED1005</td>\n",
       "      <td>A002</td>\n",
       "      <td>2019-Q1</td>\n",
       "      <td>39366.88</td>\n",
       "      <td>USD</td>\n",
       "      <td>NaN</td>\n",
       "      <td>69.9</td>\n",
       "      <td>78.4</td>\n",
       "    </tr>\n",
       "    <tr>\n",
       "      <th>2</th>\n",
       "      <td>ED1001</td>\n",
       "      <td>A003</td>\n",
       "      <td>2023-Q3</td>\n",
       "      <td>3709860.00</td>\n",
       "      <td>INR</td>\n",
       "      <td>NaN</td>\n",
       "      <td>79.0</td>\n",
       "      <td>89.2</td>\n",
       "    </tr>\n",
       "    <tr>\n",
       "      <th>3</th>\n",
       "      <td>ED1003</td>\n",
       "      <td>A002</td>\n",
       "      <td>2023-Q3</td>\n",
       "      <td>40969.55</td>\n",
       "      <td>USD</td>\n",
       "      <td>NaN</td>\n",
       "      <td>79.0</td>\n",
       "      <td>89.2</td>\n",
       "    </tr>\n",
       "    <tr>\n",
       "      <th>4</th>\n",
       "      <td>ED1007</td>\n",
       "      <td>A003</td>\n",
       "      <td>2020-Q4</td>\n",
       "      <td>51779.40</td>\n",
       "      <td>USD</td>\n",
       "      <td>NaN</td>\n",
       "      <td>74.5</td>\n",
       "      <td>86.0</td>\n",
       "    </tr>\n",
       "  </tbody>\n",
       "</table>\n",
       "</div>"
      ],
      "text/plain": [
       "  edition_id ad_category  quarter  ad_revenue currency comments  USD_to_INR  \\\n",
       "0     ED1005        A001  2023-Q2    22613.69      EUR      NaN        78.5   \n",
       "1     ED1005        A002  2019-Q1    39366.88      USD      NaN        69.9   \n",
       "2     ED1001        A003  2023-Q3  3709860.00      INR      NaN        79.0   \n",
       "3     ED1003        A002  2023-Q3    40969.55      USD      NaN        79.0   \n",
       "4     ED1007        A003  2020-Q4    51779.40      USD      NaN        74.5   \n",
       "\n",
       "   EUR_to_INR  \n",
       "0        88.5  \n",
       "1        78.4  \n",
       "2        89.2  \n",
       "3        89.2  \n",
       "4        86.0  "
      ]
     },
     "execution_count": 35,
     "metadata": {},
     "output_type": "execute_result"
    }
   ],
   "source": [
    "df = df.merge(exchange_df, on='quarter', how='left')\n",
    "df.head()"
   ]
  },
  {
   "cell_type": "code",
   "execution_count": 36,
   "id": "3cacfc26-f587-46af-a365-22082a6cfd40",
   "metadata": {},
   "outputs": [],
   "source": [
    "def convert_to_inr(row):\n",
    "    if row['currency'] == 'INR':\n",
    "        return round(row['ad_revenue'],2)\n",
    "    elif row['currency'] == 'USD':\n",
    "        return round(row['ad_revenue'] * row['USD_to_INR'],2)\n",
    "    elif row['currency'] == 'EUR':\n",
    "        return round(row['ad_revenue'] * row['EUR_to_INR'],2)\n",
    "    else:\n",
    "        return np.nan\n",
    "\n",
    "df['revenue_in_INR'] = df.apply(convert_to_inr, axis=1)\n"
   ]
  },
  {
   "cell_type": "code",
   "execution_count": 37,
   "id": "e22f78b7-90ae-44cd-8748-a047cb5b0a2e",
   "metadata": {},
   "outputs": [
    {
     "data": {
      "text/html": [
       "<div>\n",
       "<style scoped>\n",
       "    .dataframe tbody tr th:only-of-type {\n",
       "        vertical-align: middle;\n",
       "    }\n",
       "\n",
       "    .dataframe tbody tr th {\n",
       "        vertical-align: top;\n",
       "    }\n",
       "\n",
       "    .dataframe thead th {\n",
       "        text-align: right;\n",
       "    }\n",
       "</style>\n",
       "<table border=\"1\" class=\"dataframe\">\n",
       "  <thead>\n",
       "    <tr style=\"text-align: right;\">\n",
       "      <th></th>\n",
       "      <th>edition_id</th>\n",
       "      <th>ad_category</th>\n",
       "      <th>quarter</th>\n",
       "      <th>ad_revenue</th>\n",
       "      <th>currency</th>\n",
       "      <th>comments</th>\n",
       "      <th>USD_to_INR</th>\n",
       "      <th>EUR_to_INR</th>\n",
       "      <th>revenue_in_INR</th>\n",
       "    </tr>\n",
       "  </thead>\n",
       "  <tbody>\n",
       "    <tr>\n",
       "      <th>0</th>\n",
       "      <td>ED1005</td>\n",
       "      <td>A001</td>\n",
       "      <td>2023-Q2</td>\n",
       "      <td>22613.69</td>\n",
       "      <td>EUR</td>\n",
       "      <td>NaN</td>\n",
       "      <td>78.5</td>\n",
       "      <td>88.5</td>\n",
       "      <td>2001311.56</td>\n",
       "    </tr>\n",
       "    <tr>\n",
       "      <th>1</th>\n",
       "      <td>ED1005</td>\n",
       "      <td>A002</td>\n",
       "      <td>2019-Q1</td>\n",
       "      <td>39366.88</td>\n",
       "      <td>USD</td>\n",
       "      <td>NaN</td>\n",
       "      <td>69.9</td>\n",
       "      <td>78.4</td>\n",
       "      <td>2751744.91</td>\n",
       "    </tr>\n",
       "    <tr>\n",
       "      <th>2</th>\n",
       "      <td>ED1001</td>\n",
       "      <td>A003</td>\n",
       "      <td>2023-Q3</td>\n",
       "      <td>3709860.00</td>\n",
       "      <td>INR</td>\n",
       "      <td>NaN</td>\n",
       "      <td>79.0</td>\n",
       "      <td>89.2</td>\n",
       "      <td>3709860.00</td>\n",
       "    </tr>\n",
       "    <tr>\n",
       "      <th>3</th>\n",
       "      <td>ED1003</td>\n",
       "      <td>A002</td>\n",
       "      <td>2023-Q3</td>\n",
       "      <td>40969.55</td>\n",
       "      <td>USD</td>\n",
       "      <td>NaN</td>\n",
       "      <td>79.0</td>\n",
       "      <td>89.2</td>\n",
       "      <td>3236594.45</td>\n",
       "    </tr>\n",
       "    <tr>\n",
       "      <th>4</th>\n",
       "      <td>ED1007</td>\n",
       "      <td>A003</td>\n",
       "      <td>2020-Q4</td>\n",
       "      <td>51779.40</td>\n",
       "      <td>USD</td>\n",
       "      <td>NaN</td>\n",
       "      <td>74.5</td>\n",
       "      <td>86.0</td>\n",
       "      <td>3857565.30</td>\n",
       "    </tr>\n",
       "  </tbody>\n",
       "</table>\n",
       "</div>"
      ],
      "text/plain": [
       "  edition_id ad_category  quarter  ad_revenue currency comments  USD_to_INR  \\\n",
       "0     ED1005        A001  2023-Q2    22613.69      EUR      NaN        78.5   \n",
       "1     ED1005        A002  2019-Q1    39366.88      USD      NaN        69.9   \n",
       "2     ED1001        A003  2023-Q3  3709860.00      INR      NaN        79.0   \n",
       "3     ED1003        A002  2023-Q3    40969.55      USD      NaN        79.0   \n",
       "4     ED1007        A003  2020-Q4    51779.40      USD      NaN        74.5   \n",
       "\n",
       "   EUR_to_INR  revenue_in_INR  \n",
       "0        88.5      2001311.56  \n",
       "1        78.4      2751744.91  \n",
       "2        89.2      3709860.00  \n",
       "3        89.2      3236594.45  \n",
       "4        86.0      3857565.30  "
      ]
     },
     "execution_count": 37,
     "metadata": {},
     "output_type": "execute_result"
    }
   ],
   "source": [
    "df.head()"
   ]
  },
  {
   "cell_type": "code",
   "execution_count": 38,
   "id": "fb543278-7e0f-4e08-a3bd-2f18bab36f1c",
   "metadata": {},
   "outputs": [],
   "source": [
    "df['year'] = df['quarter'].str[:4]"
   ]
  },
  {
   "cell_type": "code",
   "execution_count": 39,
   "id": "dcced28e-20d6-4b10-8047-81a12502db4e",
   "metadata": {},
   "outputs": [],
   "source": [
    "df.to_csv('../Datasets/Processed Datasets/fact_ad_revenue.csv', index=False)"
   ]
  },
  {
   "cell_type": "markdown",
   "id": "24b3011f-bab9-4214-9660-14c8d2730441",
   "metadata": {
    "jp-MarkdownHeadingCollapsed": true
   },
   "source": [
    "### DATA CLEANING OF fact_city_readiness.csv"
   ]
  },
  {
   "cell_type": "code",
   "execution_count": 19,
   "id": "89cdadaf-7d68-410c-beb2-a51ce99efdac",
   "metadata": {},
   "outputs": [
    {
     "data": {
      "text/html": [
       "<div>\n",
       "<style scoped>\n",
       "    .dataframe tbody tr th:only-of-type {\n",
       "        vertical-align: middle;\n",
       "    }\n",
       "\n",
       "    .dataframe tbody tr th {\n",
       "        vertical-align: top;\n",
       "    }\n",
       "\n",
       "    .dataframe thead th {\n",
       "        text-align: right;\n",
       "    }\n",
       "</style>\n",
       "<table border=\"1\" class=\"dataframe\">\n",
       "  <thead>\n",
       "    <tr style=\"text-align: right;\">\n",
       "      <th></th>\n",
       "      <th>Unnamed: 0</th>\n",
       "      <th>city_id</th>\n",
       "      <th>quarter</th>\n",
       "      <th>literacy_rate</th>\n",
       "      <th>smartphone_penetration</th>\n",
       "      <th>internet_penetration</th>\n",
       "    </tr>\n",
       "  </thead>\n",
       "  <tbody>\n",
       "    <tr>\n",
       "      <th>0</th>\n",
       "      <td>0</td>\n",
       "      <td>C001</td>\n",
       "      <td>2019-Q1</td>\n",
       "      <td>89.16</td>\n",
       "      <td>75.76</td>\n",
       "      <td>56.53</td>\n",
       "    </tr>\n",
       "    <tr>\n",
       "      <th>1</th>\n",
       "      <td>1</td>\n",
       "      <td>C001</td>\n",
       "      <td>2019-Q2</td>\n",
       "      <td>88.76</td>\n",
       "      <td>76.45</td>\n",
       "      <td>55.97</td>\n",
       "    </tr>\n",
       "    <tr>\n",
       "      <th>2</th>\n",
       "      <td>2</td>\n",
       "      <td>C001</td>\n",
       "      <td>2019-Q3</td>\n",
       "      <td>88.83</td>\n",
       "      <td>75.32</td>\n",
       "      <td>56.52</td>\n",
       "    </tr>\n",
       "    <tr>\n",
       "      <th>3</th>\n",
       "      <td>3</td>\n",
       "      <td>C001</td>\n",
       "      <td>2019-Q4</td>\n",
       "      <td>89.25</td>\n",
       "      <td>75.83</td>\n",
       "      <td>56.94</td>\n",
       "    </tr>\n",
       "    <tr>\n",
       "      <th>4</th>\n",
       "      <td>4</td>\n",
       "      <td>C001</td>\n",
       "      <td>2020-Q1</td>\n",
       "      <td>89.13</td>\n",
       "      <td>75.03</td>\n",
       "      <td>56.45</td>\n",
       "    </tr>\n",
       "  </tbody>\n",
       "</table>\n",
       "</div>"
      ],
      "text/plain": [
       "   Unnamed: 0 city_id  quarter  literacy_rate  smartphone_penetration  \\\n",
       "0           0    C001  2019-Q1          89.16                   75.76   \n",
       "1           1    C001  2019-Q2          88.76                   76.45   \n",
       "2           2    C001  2019-Q3          88.83                   75.32   \n",
       "3           3    C001  2019-Q4          89.25                   75.83   \n",
       "4           4    C001  2020-Q1          89.13                   75.03   \n",
       "\n",
       "   internet_penetration  \n",
       "0                 56.53  \n",
       "1                 55.97  \n",
       "2                 56.52  \n",
       "3                 56.94  \n",
       "4                 56.45  "
      ]
     },
     "execution_count": 19,
     "metadata": {},
     "output_type": "execute_result"
    }
   ],
   "source": [
    "file_path = '../Datasets/Raw Datasets/fact_city_readiness.csv'\n",
    "\n",
    "df = pd.read_csv(file_path)\n",
    "df.head()"
   ]
  },
  {
   "cell_type": "code",
   "execution_count": 20,
   "id": "20b17a5c-ccd8-427e-b4a7-3999b8fdf119",
   "metadata": {},
   "outputs": [
    {
     "name": "stdout",
     "output_type": "stream",
     "text": [
      "<class 'pandas.core.frame.DataFrame'>\n",
      "RangeIndex: 240 entries, 0 to 239\n",
      "Data columns (total 6 columns):\n",
      " #   Column                  Non-Null Count  Dtype  \n",
      "---  ------                  --------------  -----  \n",
      " 0   Unnamed: 0              240 non-null    int64  \n",
      " 1   city_id                 240 non-null    object \n",
      " 2   quarter                 240 non-null    object \n",
      " 3   literacy_rate           240 non-null    float64\n",
      " 4   smartphone_penetration  240 non-null    float64\n",
      " 5   internet_penetration    240 non-null    float64\n",
      "dtypes: float64(3), int64(1), object(2)\n",
      "memory usage: 11.4+ KB\n"
     ]
    },
    {
     "data": {
      "text/plain": [
       "Index(['Unnamed: 0', 'city_id', 'quarter', 'literacy_rate',\n",
       "       'smartphone_penetration', 'internet_penetration'],\n",
       "      dtype='object')"
      ]
     },
     "execution_count": 20,
     "metadata": {},
     "output_type": "execute_result"
    }
   ],
   "source": [
    "df.info()\n",
    "df.columns"
   ]
  },
  {
   "cell_type": "code",
   "execution_count": 21,
   "id": "299e6714-d12d-45ea-8c73-6dfac8c4447c",
   "metadata": {},
   "outputs": [
    {
     "ename": "KeyError",
     "evalue": "\"['s_no'] not found in axis\"",
     "output_type": "error",
     "traceback": [
      "\u001b[31m---------------------------------------------------------------------------\u001b[39m",
      "\u001b[31mKeyError\u001b[39m                                  Traceback (most recent call last)",
      "\u001b[36mCell\u001b[39m\u001b[36m \u001b[39m\u001b[32mIn[21]\u001b[39m\u001b[32m, line 1\u001b[39m\n\u001b[32m----> \u001b[39m\u001b[32m1\u001b[39m df = \u001b[43mdf\u001b[49m\u001b[43m.\u001b[49m\u001b[43mdrop\u001b[49m\u001b[43m(\u001b[49m\u001b[33;43m'\u001b[39;49m\u001b[33;43ms_no\u001b[39;49m\u001b[33;43m'\u001b[39;49m\u001b[43m,\u001b[49m\u001b[43m \u001b[49m\u001b[43maxis\u001b[49m\u001b[43m=\u001b[49m\u001b[32;43m1\u001b[39;49m\u001b[43m)\u001b[49m\n",
      "\u001b[36mFile \u001b[39m\u001b[32m~\\AppData\\Local\\Programs\\Python\\Python313\\Lib\\site-packages\\pandas\\core\\frame.py:5588\u001b[39m, in \u001b[36mDataFrame.drop\u001b[39m\u001b[34m(self, labels, axis, index, columns, level, inplace, errors)\u001b[39m\n\u001b[32m   5440\u001b[39m \u001b[38;5;28;01mdef\u001b[39;00m\u001b[38;5;250m \u001b[39m\u001b[34mdrop\u001b[39m(\n\u001b[32m   5441\u001b[39m     \u001b[38;5;28mself\u001b[39m,\n\u001b[32m   5442\u001b[39m     labels: IndexLabel | \u001b[38;5;28;01mNone\u001b[39;00m = \u001b[38;5;28;01mNone\u001b[39;00m,\n\u001b[32m   (...)\u001b[39m\u001b[32m   5449\u001b[39m     errors: IgnoreRaise = \u001b[33m\"\u001b[39m\u001b[33mraise\u001b[39m\u001b[33m\"\u001b[39m,\n\u001b[32m   5450\u001b[39m ) -> DataFrame | \u001b[38;5;28;01mNone\u001b[39;00m:\n\u001b[32m   5451\u001b[39m \u001b[38;5;250m    \u001b[39m\u001b[33;03m\"\"\"\u001b[39;00m\n\u001b[32m   5452\u001b[39m \u001b[33;03m    Drop specified labels from rows or columns.\u001b[39;00m\n\u001b[32m   5453\u001b[39m \n\u001b[32m   (...)\u001b[39m\u001b[32m   5586\u001b[39m \u001b[33;03m            weight  1.0     0.8\u001b[39;00m\n\u001b[32m   5587\u001b[39m \u001b[33;03m    \"\"\"\u001b[39;00m\n\u001b[32m-> \u001b[39m\u001b[32m5588\u001b[39m     \u001b[38;5;28;01mreturn\u001b[39;00m \u001b[38;5;28;43msuper\u001b[39;49m\u001b[43m(\u001b[49m\u001b[43m)\u001b[49m\u001b[43m.\u001b[49m\u001b[43mdrop\u001b[49m\u001b[43m(\u001b[49m\n\u001b[32m   5589\u001b[39m \u001b[43m        \u001b[49m\u001b[43mlabels\u001b[49m\u001b[43m=\u001b[49m\u001b[43mlabels\u001b[49m\u001b[43m,\u001b[49m\n\u001b[32m   5590\u001b[39m \u001b[43m        \u001b[49m\u001b[43maxis\u001b[49m\u001b[43m=\u001b[49m\u001b[43maxis\u001b[49m\u001b[43m,\u001b[49m\n\u001b[32m   5591\u001b[39m \u001b[43m        \u001b[49m\u001b[43mindex\u001b[49m\u001b[43m=\u001b[49m\u001b[43mindex\u001b[49m\u001b[43m,\u001b[49m\n\u001b[32m   5592\u001b[39m \u001b[43m        \u001b[49m\u001b[43mcolumns\u001b[49m\u001b[43m=\u001b[49m\u001b[43mcolumns\u001b[49m\u001b[43m,\u001b[49m\n\u001b[32m   5593\u001b[39m \u001b[43m        \u001b[49m\u001b[43mlevel\u001b[49m\u001b[43m=\u001b[49m\u001b[43mlevel\u001b[49m\u001b[43m,\u001b[49m\n\u001b[32m   5594\u001b[39m \u001b[43m        \u001b[49m\u001b[43minplace\u001b[49m\u001b[43m=\u001b[49m\u001b[43minplace\u001b[49m\u001b[43m,\u001b[49m\n\u001b[32m   5595\u001b[39m \u001b[43m        \u001b[49m\u001b[43merrors\u001b[49m\u001b[43m=\u001b[49m\u001b[43merrors\u001b[49m\u001b[43m,\u001b[49m\n\u001b[32m   5596\u001b[39m \u001b[43m    \u001b[49m\u001b[43m)\u001b[49m\n",
      "\u001b[36mFile \u001b[39m\u001b[32m~\\AppData\\Local\\Programs\\Python\\Python313\\Lib\\site-packages\\pandas\\core\\generic.py:4807\u001b[39m, in \u001b[36mNDFrame.drop\u001b[39m\u001b[34m(self, labels, axis, index, columns, level, inplace, errors)\u001b[39m\n\u001b[32m   4805\u001b[39m \u001b[38;5;28;01mfor\u001b[39;00m axis, labels \u001b[38;5;129;01min\u001b[39;00m axes.items():\n\u001b[32m   4806\u001b[39m     \u001b[38;5;28;01mif\u001b[39;00m labels \u001b[38;5;129;01mis\u001b[39;00m \u001b[38;5;129;01mnot\u001b[39;00m \u001b[38;5;28;01mNone\u001b[39;00m:\n\u001b[32m-> \u001b[39m\u001b[32m4807\u001b[39m         obj = \u001b[43mobj\u001b[49m\u001b[43m.\u001b[49m\u001b[43m_drop_axis\u001b[49m\u001b[43m(\u001b[49m\u001b[43mlabels\u001b[49m\u001b[43m,\u001b[49m\u001b[43m \u001b[49m\u001b[43maxis\u001b[49m\u001b[43m,\u001b[49m\u001b[43m \u001b[49m\u001b[43mlevel\u001b[49m\u001b[43m=\u001b[49m\u001b[43mlevel\u001b[49m\u001b[43m,\u001b[49m\u001b[43m \u001b[49m\u001b[43merrors\u001b[49m\u001b[43m=\u001b[49m\u001b[43merrors\u001b[49m\u001b[43m)\u001b[49m\n\u001b[32m   4809\u001b[39m \u001b[38;5;28;01mif\u001b[39;00m inplace:\n\u001b[32m   4810\u001b[39m     \u001b[38;5;28mself\u001b[39m._update_inplace(obj)\n",
      "\u001b[36mFile \u001b[39m\u001b[32m~\\AppData\\Local\\Programs\\Python\\Python313\\Lib\\site-packages\\pandas\\core\\generic.py:4849\u001b[39m, in \u001b[36mNDFrame._drop_axis\u001b[39m\u001b[34m(self, labels, axis, level, errors, only_slice)\u001b[39m\n\u001b[32m   4847\u001b[39m         new_axis = axis.drop(labels, level=level, errors=errors)\n\u001b[32m   4848\u001b[39m     \u001b[38;5;28;01melse\u001b[39;00m:\n\u001b[32m-> \u001b[39m\u001b[32m4849\u001b[39m         new_axis = \u001b[43maxis\u001b[49m\u001b[43m.\u001b[49m\u001b[43mdrop\u001b[49m\u001b[43m(\u001b[49m\u001b[43mlabels\u001b[49m\u001b[43m,\u001b[49m\u001b[43m \u001b[49m\u001b[43merrors\u001b[49m\u001b[43m=\u001b[49m\u001b[43merrors\u001b[49m\u001b[43m)\u001b[49m\n\u001b[32m   4850\u001b[39m     indexer = axis.get_indexer(new_axis)\n\u001b[32m   4852\u001b[39m \u001b[38;5;66;03m# Case for non-unique axis\u001b[39;00m\n\u001b[32m   4853\u001b[39m \u001b[38;5;28;01melse\u001b[39;00m:\n",
      "\u001b[36mFile \u001b[39m\u001b[32m~\\AppData\\Local\\Programs\\Python\\Python313\\Lib\\site-packages\\pandas\\core\\indexes\\base.py:7136\u001b[39m, in \u001b[36mIndex.drop\u001b[39m\u001b[34m(self, labels, errors)\u001b[39m\n\u001b[32m   7134\u001b[39m \u001b[38;5;28;01mif\u001b[39;00m mask.any():\n\u001b[32m   7135\u001b[39m     \u001b[38;5;28;01mif\u001b[39;00m errors != \u001b[33m\"\u001b[39m\u001b[33mignore\u001b[39m\u001b[33m\"\u001b[39m:\n\u001b[32m-> \u001b[39m\u001b[32m7136\u001b[39m         \u001b[38;5;28;01mraise\u001b[39;00m \u001b[38;5;167;01mKeyError\u001b[39;00m(\u001b[33mf\u001b[39m\u001b[33m\"\u001b[39m\u001b[38;5;132;01m{\u001b[39;00mlabels[mask].tolist()\u001b[38;5;132;01m}\u001b[39;00m\u001b[33m not found in axis\u001b[39m\u001b[33m\"\u001b[39m)\n\u001b[32m   7137\u001b[39m     indexer = indexer[~mask]\n\u001b[32m   7138\u001b[39m \u001b[38;5;28;01mreturn\u001b[39;00m \u001b[38;5;28mself\u001b[39m.delete(indexer)\n",
      "\u001b[31mKeyError\u001b[39m: \"['s_no'] not found in axis\""
     ]
    }
   ],
   "source": [
    "df = df.drop('s_no', axis=1)"
   ]
  },
  {
   "cell_type": "code",
   "execution_count": null,
   "id": "3125d8e4-d636-4546-9437-322dc5c7d6ad",
   "metadata": {},
   "outputs": [],
   "source": [
    "df.head()"
   ]
  },
  {
   "cell_type": "code",
   "execution_count": null,
   "id": "c4088dfe-6452-4aec-b5bd-c1208eb12d45",
   "metadata": {},
   "outputs": [],
   "source": [
    "df.isnull().sum()"
   ]
  },
  {
   "cell_type": "code",
   "execution_count": null,
   "id": "cc11fdb2-b099-42a3-b3c8-9419cc66d3ba",
   "metadata": {},
   "outputs": [],
   "source": [
    "df.columns = df.columns.str.lower().str.strip().str.replace(' ', '_')"
   ]
  },
  {
   "cell_type": "code",
   "execution_count": null,
   "id": "a4b9c6b0-a062-4125-bc7b-5e4c3ee013c6",
   "metadata": {},
   "outputs": [],
   "source": [
    "df['year'] = df['quarter'].str[:4]"
   ]
  },
  {
   "cell_type": "code",
   "execution_count": null,
   "id": "41038ce1-83e8-4558-adb0-4772fdeca66f",
   "metadata": {},
   "outputs": [],
   "source": [
    "df.head()"
   ]
  },
  {
   "cell_type": "code",
   "execution_count": null,
   "id": "da765198-661f-4047-ad6b-41c50ccb2d79",
   "metadata": {},
   "outputs": [],
   "source": [
    "df.describe()"
   ]
  },
  {
   "cell_type": "code",
   "execution_count": null,
   "id": "c99c7763-8300-40b6-826e-48ea0f27d151",
   "metadata": {},
   "outputs": [],
   "source": [
    "df.to_csv('../Datasets/Processed Datasets/fact_city_readiness.csv', index=False)"
   ]
  },
  {
   "cell_type": "markdown",
   "id": "ccfd2044-20e2-40e7-8979-5387debb7e59",
   "metadata": {
    "jp-MarkdownHeadingCollapsed": true
   },
   "source": [
    "### DATA CLEANING of fact_digital_pilot.csv"
   ]
  },
  {
   "cell_type": "code",
   "execution_count": null,
   "id": "58346e86-62bc-42ab-a33b-42acd8c4012e",
   "metadata": {},
   "outputs": [],
   "source": [
    "file_path = '../Datasets/Raw Datasets/fact_digital_pilot.csv'\n",
    "\n",
    "df = pd.read_csv(file_path)\n",
    "df.head()"
   ]
  },
  {
   "cell_type": "code",
   "execution_count": null,
   "id": "2ffdf162-b307-4e7a-8478-47406a0f745f",
   "metadata": {},
   "outputs": [],
   "source": [
    "df.info()\n",
    "df.columns"
   ]
  },
  {
   "cell_type": "code",
   "execution_count": null,
   "id": "b327c168-79f3-469b-b8dd-4102a94ebd6a",
   "metadata": {},
   "outputs": [],
   "source": [
    "df = df.drop('Unnamed: 0', axis=1)"
   ]
  },
  {
   "cell_type": "code",
   "execution_count": null,
   "id": "d4d1f654-8dbd-4aa7-ae6e-3c4fc2cbf47d",
   "metadata": {},
   "outputs": [],
   "source": [
    "df.columns = df.columns.str.lower().str.replace(' ', '_')"
   ]
  },
  {
   "cell_type": "code",
   "execution_count": null,
   "id": "10ab984a-4991-4b0e-a818-822b22dcc486",
   "metadata": {},
   "outputs": [],
   "source": [
    "df['launch_month'] = pd.to_datetime(df['launch_month'], format='%Y-%m')"
   ]
  },
  {
   "cell_type": "code",
   "execution_count": null,
   "id": "d20934ca-f750-4234-a293-b76fb6023d9e",
   "metadata": {},
   "outputs": [],
   "source": [
    "df['year'] = df['launch_month'].dt.year"
   ]
  },
  {
   "cell_type": "code",
   "execution_count": null,
   "id": "33ab896f-9ce2-4f28-9826-d0933a57f5b0",
   "metadata": {},
   "outputs": [],
   "source": [
    "df['month_name'] = df['launch_month'].dt.strftime('%B')"
   ]
  },
  {
   "cell_type": "code",
   "execution_count": null,
   "id": "195a2358-78b1-4750-bdfe-289c4d3c58a2",
   "metadata": {},
   "outputs": [],
   "source": [
    "df['launch_month'] = df['launch_month'].dt.strftime('%Y-%m')"
   ]
  },
  {
   "cell_type": "code",
   "execution_count": null,
   "id": "6afc3267-393a-4e8b-b35b-9706f2511ae8",
   "metadata": {},
   "outputs": [],
   "source": [
    "df.head()"
   ]
  },
  {
   "cell_type": "code",
   "execution_count": null,
   "id": "c6f041e0-20bd-462a-9e89-02eb4f701260",
   "metadata": {},
   "outputs": [],
   "source": [
    "df.info()"
   ]
  },
  {
   "cell_type": "code",
   "execution_count": null,
   "id": "cacaf312-8d7e-422f-8ceb-fa583902a6ad",
   "metadata": {},
   "outputs": [],
   "source": [
    "df.to_csv('../Datasets/Processed Datasets/fact_digital_pilot.csv', index=False)"
   ]
  },
  {
   "cell_type": "markdown",
   "id": "c471283b-1418-49df-84fc-aad340c4461d",
   "metadata": {
    "jp-MarkdownHeadingCollapsed": true
   },
   "source": [
    "### DATA CLEANING OF dim_ad_category.xlsx"
   ]
  },
  {
   "cell_type": "code",
   "execution_count": null,
   "id": "f0f84b3b-7f08-436f-8cc5-f7aae661b0ef",
   "metadata": {},
   "outputs": [],
   "source": [
    "file_path = '../Datasets/Raw Datasets/dim_ad_category.xlsx'\n",
    "\n",
    "df = pd.read_excel(file_path)\n",
    "df.head()"
   ]
  },
  {
   "cell_type": "code",
   "execution_count": null,
   "id": "e98c9fab-fa2a-46bf-8068-954befbf7acb",
   "metadata": {},
   "outputs": [],
   "source": [
    "df.columns = df.columns.str.lower().str.replace(' ', '_')"
   ]
  },
  {
   "cell_type": "code",
   "execution_count": null,
   "id": "bed4364c-e207-4a20-9a3d-eac35d7883fe",
   "metadata": {},
   "outputs": [],
   "source": [
    "df.info()\n",
    "df.columns\n",
    "df.shape"
   ]
  },
  {
   "cell_type": "code",
   "execution_count": null,
   "id": "59275263-dbb8-4422-9d1e-b9fcd22c298f",
   "metadata": {},
   "outputs": [],
   "source": [
    "df.to_csv('../Datasets/Processed Datasets/dim_ad_category.csv', index=False)"
   ]
  },
  {
   "cell_type": "markdown",
   "id": "cbd0fe0b-6607-4778-820c-65111925ae39",
   "metadata": {},
   "source": [
    "### DATA CLEANING OF dim_city.xlsx"
   ]
  },
  {
   "cell_type": "code",
   "execution_count": null,
   "id": "72c3c2bc-f4ea-44bc-81c9-62249fbcab1d",
   "metadata": {},
   "outputs": [],
   "source": [
    "file_path = '../Datasets/Raw Datasets/dim_city.xlsx'\n",
    "\n",
    "df = pd.read_excel(file_path)\n",
    "df.head()"
   ]
  },
  {
   "cell_type": "code",
   "execution_count": null,
   "id": "b561bfb1-60fd-469f-a9da-febc81b4fa7b",
   "metadata": {},
   "outputs": [],
   "source": [
    "df.columns = df.columns.str.lower().str.replace(' ', '_')"
   ]
  },
  {
   "cell_type": "code",
   "execution_count": null,
   "id": "037974b1-abf5-4ab3-83c0-2d4f247cc094",
   "metadata": {},
   "outputs": [],
   "source": [
    "df['state'] = df['state'].str.title()"
   ]
  },
  {
   "cell_type": "code",
   "execution_count": null,
   "id": "7d614942-c833-4db0-bc9f-12374b0121e8",
   "metadata": {},
   "outputs": [],
   "source": [
    "df.info()\n",
    "df.columns\n",
    "df.shape"
   ]
  },
  {
   "cell_type": "code",
   "execution_count": null,
   "id": "2c581c26-1a7f-4cda-a785-298760e43a38",
   "metadata": {},
   "outputs": [],
   "source": [
    "df['city'] = df['city'].str.title()"
   ]
  },
  {
   "cell_type": "code",
   "execution_count": null,
   "id": "813e7f22-823a-47be-a83c-9b88d2915739",
   "metadata": {},
   "outputs": [],
   "source": [
    "df.head(10)"
   ]
  },
  {
   "cell_type": "code",
   "execution_count": null,
   "id": "360e7819-912c-49b9-98f9-63b44e7756da",
   "metadata": {},
   "outputs": [],
   "source": [
    "df.to_csv('../Datasets/Processed Datasets/dim_city.csv', index=False)"
   ]
  },
  {
   "cell_type": "markdown",
   "id": "54a252f2-e6da-4aa0-8291-4fa3832d5f87",
   "metadata": {},
   "source": [
    "### DATA CLEANING OF fact_print_sales.xlsx"
   ]
  },
  {
   "cell_type": "code",
   "execution_count": null,
   "id": "4d600acb-45b2-4042-950b-5b3367f578d4",
   "metadata": {},
   "outputs": [],
   "source": [
    "file_path = '../Datasets/Raw Datasets/fact_print_sales.xlsx'\n",
    "\n",
    "df = pd.read_excel(file_path)\n",
    "df.head()"
   ]
  },
  {
   "cell_type": "code",
   "execution_count": null,
   "id": "e99d202c-4490-4297-b48a-1dcdb7ea54f5",
   "metadata": {},
   "outputs": [],
   "source": [
    "df.columns = df.columns.str.lower().str.replace(' ', '_')"
   ]
  },
  {
   "cell_type": "code",
   "execution_count": null,
   "id": "1308980b-68b2-4da3-9f45-0a50ea9300ef",
   "metadata": {},
   "outputs": [],
   "source": [
    "df['language'] = df['language'].str.title()"
   ]
  },
  {
   "cell_type": "code",
   "execution_count": null,
   "id": "50e97360-06e6-43e1-aad2-fad885660f3f",
   "metadata": {},
   "outputs": [],
   "source": [
    "df['state'] = df['state'].str.title().str.replace('_', ' ', regex=False)"
   ]
  },
  {
   "cell_type": "code",
   "execution_count": null,
   "id": "825807c6-084f-41c0-aa7e-aa606b1c8c13",
   "metadata": {},
   "outputs": [],
   "source": [
    "df['month'] = pd.to_datetime(df['month'])"
   ]
  },
  {
   "cell_type": "code",
   "execution_count": null,
   "id": "ec11f91a-4f8e-4e6d-a333-73b795b7bf79",
   "metadata": {},
   "outputs": [],
   "source": [
    "df['year'] = df['month'].dt.year"
   ]
  },
  {
   "cell_type": "code",
   "execution_count": null,
   "id": "a71a3fa1-62f5-4544-a0b7-dadf932a09aa",
   "metadata": {},
   "outputs": [],
   "source": [
    "df['month'] = df['month'].dt.strftime('%B')"
   ]
  },
  {
   "cell_type": "code",
   "execution_count": null,
   "id": "21bc83f9-bec0-43f2-ad0a-d3dc6d9d8c9f",
   "metadata": {},
   "outputs": [],
   "source": [
    "df['copies_sold'] = df['copies_sold'].astype(str).str.replace('â‚¹', '', regex=False)\n"
   ]
  },
  {
   "cell_type": "code",
   "execution_count": null,
   "id": "d475da63-9f51-4427-be39-c53abe6d3caa",
   "metadata": {},
   "outputs": [],
   "source": [
    "df['copies_sold'] = df['copies_sold'].astype(int)"
   ]
  },
  {
   "cell_type": "code",
   "execution_count": null,
   "id": "d5b50114-058b-4ad2-a732-42f25f097d85",
   "metadata": {},
   "outputs": [],
   "source": [
    "df.info()"
   ]
  },
  {
   "cell_type": "code",
   "execution_count": null,
   "id": "c9b8f5a1-6a64-4c62-92e5-93f2479d97a4",
   "metadata": {},
   "outputs": [],
   "source": [
    "df.head()"
   ]
  },
  {
   "cell_type": "code",
   "execution_count": null,
   "id": "719a1231-a510-4f77-bb70-7ecb64661811",
   "metadata": {},
   "outputs": [],
   "source": [
    "df.describe()"
   ]
  },
  {
   "cell_type": "code",
   "execution_count": null,
   "id": "9fde58da-5650-4192-9050-7147fa50da98",
   "metadata": {},
   "outputs": [],
   "source": [
    "df.to_csv('../Datasets/Processed Datasets/fact_print_sales.csv', index=False)"
   ]
  }
 ],
 "metadata": {
  "kernelspec": {
   "display_name": "Python 3 (ipykernel)",
   "language": "python",
   "name": "python3"
  },
  "language_info": {
   "codemirror_mode": {
    "name": "ipython",
    "version": 3
   },
   "file_extension": ".py",
   "mimetype": "text/x-python",
   "name": "python",
   "nbconvert_exporter": "python",
   "pygments_lexer": "ipython3",
   "version": "3.13.5"
  }
 },
 "nbformat": 4,
 "nbformat_minor": 5
}
